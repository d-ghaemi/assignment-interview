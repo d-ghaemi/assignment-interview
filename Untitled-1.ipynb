{
 "cells": [
  {
   "cell_type": "code",
   "execution_count": 139,
   "metadata": {},
   "outputs": [
    {
     "name": "stdout",
     "output_type": "stream",
     "text": [
      "H, W, C_in 5 8 2 fh, fw 3 6 Sh, Sw 3 3\n",
      "S1: \n",
      "(5, 8, 2)\n",
      "S1: \n",
      "(3, 0, 2)\n",
      "3 3 2\n",
      "S: \n",
      "[[[4.36589869 3.66553797]\n",
      "  [3.88051883 4.4078275 ]\n",
      "  [3.75556135 3.20517711]]\n",
      "\n",
      " [[4.42778424 4.22302928]\n",
      "  [4.2159254  4.33285948]\n",
      "  [4.42064665 4.29480445]]\n",
      "\n",
      " [[3.81323585 4.1762062 ]\n",
      "  [3.97806991 3.76867425]\n",
      "  [4.55306196 4.22558573]]]\n"
     ]
    }
   ],
   "source": [
    "import numpy as np\n",
    "import cv2 as cv\n",
    "\n",
    "###############################################\n",
    "\n",
    "\n",
    "\n",
    "C_in = np.random.randint(1, 3)\n",
    "fh = np.random.randint(3, 8)\n",
    "fw = np.random.randint(3, 8)\n",
    "H = np.random.randint(fh, fh+3)\n",
    "W = np.random.randint(fw, fw+3)\n",
    "Sh=H-fh+1\n",
    "Sw=W-fw+1\n",
    "\n",
    "print('H, W, C_in', H, W, C_in, 'fh, fw', fh, fw, 'Sh, Sw', Sh, Sw)\n",
    "\n",
    "\n",
    "A= np.random.rand(H, W, C_in)\n",
    "B= np.random.rand(fh, fw, C_in)\n",
    "\n",
    "\n",
    "S1=np.zeros([H, W, C_in])\n",
    "\n",
    "\n",
    "for k in range(C_in):\n",
    "    S1[:, :, k]= cv.filter2D(src=A[:, :, k], ddepth=-1, kernel=B[:, :, k])\n",
    "#np.savetxt('A.txt', A)\n",
    "#np.savetxt('B.txt', B)\n",
    "print('S1: ')\n",
    "print(S1.shape)\n",
    "S1=S1[fh-2:H-fh+2, fw-2:W-fw+2, :]\n",
    "print('S1: ')\n",
    "print(S1.shape)\n",
    "\n",
    "\n",
    "\n",
    "###############################################\n",
    "\n",
    "\n",
    "#A= np.loadtxt('A.txt').reshape(H, W, C_in)\n",
    "#B= np.loadtxt('B.txt').reshape(fh, fw, C_in)\n",
    "\n",
    "\n",
    "H, W, C_in= A.shape\n",
    "fh, fw, C_in = B.shape\n",
    "#without padding: Sh, Sw= S.shape\n",
    "Sh=H-fh+1\n",
    "Sw=W-fw+1\n",
    "print(Sh, Sw, C_in)\n",
    "S=np.zeros([Sh, Sw, C_in])\n",
    "\n",
    "def dot(A, B):\n",
    "    h, w = A.shape\n",
    "    s=0\n",
    "    for i in range(h):\n",
    "        for j in range(w):\n",
    "            s=s+A[i,j]*B[i, j]\n",
    "    return s\n",
    "\n",
    "for k in range (C_in):\n",
    "    for j in range(Sw):\n",
    "        for i in range(Sh):\n",
    "            S[i, j, k]=dot(A[i:i+fh, j:j+fw, k], B[:,:, k])\n",
    "\n",
    "\n",
    "print('S: ')\n",
    "print(S)\n",
    "\n",
    "#np.savetxt('S.txt', S)"
   ]
  },
  {
   "cell_type": "code",
   "execution_count": 140,
   "metadata": {},
   "outputs": [
    {
     "name": "stdout",
     "output_type": "stream",
     "text": [
      "3 3 2\n",
      "S: \n",
      "[[[4.36589868940594, 3.6655379683704665], [3.8805188282425536, 4.407827496939341], [3.755561349514392, 3.205177106829817]], [[4.4277842449020355, 4.22302928100508], [4.215925396896532, 4.332859482175247], [4.420646648507919, 4.294804453898575]], [[3.8132358504866843, 4.176206195910856], [3.9780699109526254, 3.768674253546874], [4.5530619587462215, 4.225585732212787]]]\n"
     ]
    }
   ],
   "source": [
    "\n",
    "\n",
    "\n",
    "H, W, C_in= A.shape\n",
    "fh, fw, C_in = B.shape\n",
    "#without padding: Sh, Sw= S.shape\n",
    "Sh=H-fh+1\n",
    "Sw=W-fw+1\n",
    "print(Sh, Sw, C_in)\n",
    "S=[[[0 for k in range(C_in)]for j in range(Sw)]for i in range(Sh)]\n",
    "\n",
    "\n",
    "def dot(A, B):\n",
    "    h, w = A.shape\n",
    "    s=0\n",
    "    for i in range(h):\n",
    "        for j in range(w):\n",
    "            s=s+A[i,j]*B[i, j]\n",
    "    #print(s)\n",
    "    return s\n",
    "\n",
    "for k in range (C_in):\n",
    "    for j in range(Sw):\n",
    "        for i in range(Sh):\n",
    "            ((S[i])[j])[k]=dot(A[i:i+fh, j:j+fw, k], B[:,:, k])\n",
    "            \n",
    "\n",
    "\n",
    "print('S: ')\n",
    "print(S)\n"
   ]
  },
  {
   "cell_type": "code",
   "execution_count": 141,
   "metadata": {},
   "outputs": [
    {
     "name": "stdout",
     "output_type": "stream",
     "text": [
      "[[[0, 0], [0, 0], [0, 0]], [[0, 0], [0, 0], [0, 0]], [[0, 0], [0, 0], [0, 0]]]\n"
     ]
    }
   ],
   "source": [
    "i=1\n",
    "j=1\n",
    "k=1\n",
    "\n",
    "y=[[[0 for k in range(C_in)]for j in range(Sw)]for i in range(Sh)]\n",
    "print(y)\n"
   ]
  },
  {
   "cell_type": "code",
   "execution_count": 143,
   "metadata": {},
   "outputs": [
    {
     "name": "stdout",
     "output_type": "stream",
     "text": [
      "7.735526043166999210e-01 3.033002129954393000e-01 3.097498631227884047e-01 1.327151385565169539e-01 1.603878734619761381e-01 2.083222665402451046e-01 9.170463237744445051e-01 9.071490008102920388e-01 4.829492163417017370e-01 \n",
      "content\n",
      "['7.735526043166999210e-01', '3.033002129954393000e-01', '3.097498631227884047e-01\\n1.327151385565169539e-01', '1.603878734619761381e-01', '2.083222665402451046e-01\\n9.170463237744445051e-01', '9.071490008102920388e-01', '4.829492163417017370e-01\\n']\n"
     ]
    }
   ],
   "source": [
    "file = open('B.txt', 'r')\n",
    "content = file.read()\n",
    "\n",
    "print((content.replace('\\n', ' ')))\n",
    "\n",
    "print('content')\n",
    "print((content.split(' ')))\n"
   ]
  }
 ],
 "metadata": {
  "kernelspec": {
   "display_name": "base",
   "language": "python",
   "name": "python3"
  },
  "language_info": {
   "codemirror_mode": {
    "name": "ipython",
    "version": 3
   },
   "file_extension": ".py",
   "mimetype": "text/x-python",
   "name": "python",
   "nbconvert_exporter": "python",
   "pygments_lexer": "ipython3",
   "version": "3.9.13"
  }
 },
 "nbformat": 4,
 "nbformat_minor": 2
}
