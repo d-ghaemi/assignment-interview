{
 "cells": [
  {
   "cell_type": "code",
   "execution_count": 45,
   "metadata": {},
   "outputs": [
    {
     "name": "stdout",
     "output_type": "stream",
     "text": [
      "H, W, C_in 7 4 1 fh, fw 6 4 Sh, Sw 2 1\n",
      "S1: \n",
      "(7, 4, 1)\n",
      "S1: \n",
      "(0, 0, 1)\n",
      "2 1 1\n",
      "S: \n",
      "[[[7.62254524]]\n",
      "\n",
      " [[8.09530262]]]\n"
     ]
    }
   ],
   "source": [
    "import numpy as np\n",
    "import cv2 as cv\n",
    "\n",
    "###############################################\n",
    "\n",
    "\n",
    "\n",
    "C_in = np.random.randint(1, 3)\n",
    "fh = np.random.randint(3, 8)\n",
    "fw = np.random.randint(3, 8)\n",
    "H = np.random.randint(fh, fh+3)\n",
    "W = np.random.randint(fw, fw+3)\n",
    "Sh=H-fh+1\n",
    "Sw=W-fw+1\n",
    "\n",
    "print('H, W, C_in', H, W, C_in, 'fh, fw', fh, fw, 'Sh, Sw', Sh, Sw)\n",
    "\n",
    "\n",
    "A= np.random.rand(H, W, C_in)\n",
    "B= np.random.rand(fh, fw, C_in)\n",
    "\n",
    "\n",
    "S1=np.zeros([H, W, C_in])\n",
    "\n",
    "\n",
    "for k in range(C_in):\n",
    "    S1[:, :, k]= cv.filter2D(src=A[:, :, k], ddepth=-1, kernel=B[:, :, k])\n",
    "#np.savetxt('A.txt', A)\n",
    "#np.savetxt('B.txt', B)\n",
    "print('S1: ')\n",
    "print(S1.shape)\n",
    "S1=S1[fh-2:H-fh+2, fw-2:W-fw+2, :]\n",
    "print('S1: ')\n",
    "print(S1.shape)\n",
    "\n",
    "\n",
    "\n",
    "###############################################\n",
    "\n",
    "\n",
    "#A= np.loadtxt('A.txt').reshape(H, W, C_in)\n",
    "#B= np.loadtxt('B.txt').reshape(fh, fw, C_in)\n",
    "\n",
    "\n",
    "H, W, C_in= A.shape\n",
    "fh, fw, C_in = B.shape\n",
    "#without padding: Sh, Sw= S.shape\n",
    "Sh=H-fh+1\n",
    "Sw=W-fw+1\n",
    "print(Sh, Sw, C_in)\n",
    "S=np.zeros([Sh, Sw, C_in])\n",
    "\n",
    "def dot(A, B):\n",
    "    h, w = A.shape\n",
    "    s=0\n",
    "    for i in range(h):\n",
    "        for j in range(w):\n",
    "            s=s+A[i,j]*B[i, j]\n",
    "    return s\n",
    "\n",
    "for k in range (C_in):\n",
    "    for j in range(Sw):\n",
    "        for i in range(Sh):\n",
    "            S[i, j, k]=dot(A[i:i+fh, j:j+fw, k], B[:,:, k])\n",
    "\n",
    "\n",
    "print('S: ')\n",
    "print(S)\n",
    "\n",
    "#np.savetxt('S.txt', S)"
   ]
  },
  {
   "cell_type": "code",
   "execution_count": 46,
   "metadata": {},
   "outputs": [
    {
     "name": "stdout",
     "output_type": "stream",
     "text": [
      "2 1 1\n",
      "S: \n",
      "[[[7.6225452430760114]], [[8.095302621912568]]]\n"
     ]
    }
   ],
   "source": [
    "\n",
    "\n",
    "\n",
    "H, W, C_in= A.shape\n",
    "fh, fw, C_in = B.shape\n",
    "#without padding: Sh, Sw= S.shape\n",
    "Sh=H-fh+1\n",
    "Sw=W-fw+1\n",
    "print(Sh, Sw, C_in)\n",
    "S=[[[0 for k in range(C_in)]for j in range(Sw)]for i in range(Sh)]\n",
    "\n",
    "\n",
    "def dot(A, B):\n",
    "    h, w = A.shape\n",
    "    s=0\n",
    "    for i in range(h):\n",
    "        for j in range(w):\n",
    "            s=s+A[i,j]*B[i, j]\n",
    "    #print(s)\n",
    "    return s\n",
    "\n",
    "for k in range (C_in):\n",
    "    for j in range(Sw):\n",
    "        for i in range(Sh):\n",
    "            ((S[i])[j])[k]=dot(A[i:i+fh, j:j+fw, k], B[:,:, k])\n",
    "            \n",
    "\n",
    "\n",
    "print('S: ')\n",
    "print(S)\n"
   ]
  },
  {
   "cell_type": "code",
   "execution_count": 47,
   "metadata": {},
   "outputs": [
    {
     "name": "stdout",
     "output_type": "stream",
     "text": [
      "grad_S_A: \n",
      "[[[[[0.858833397337602], [0.41636330548581746], [0.5300743825505428], [0.8276552187917637]], [[0.2600916664371118], [0.018418561713245296], [0.05752058888163214], [0.644730530195006]], [[0.5935240114180499], [0.6793641132522851], [0.6749749468828203], [0.7319898978733635]], [[0.8616139451831133], [0.9054198874287034], [0.3831246526420313], [0.585402858018798]], [[0.3186553756987821], [0.8795006799362266], [0.9897677133172406], [0.07894330352985413]], [[0.7324817895315199], [0.4607288838752942], [0.585302379057838], [0.036017522570645055]], [[0], [0], [0], [0]]]], [[[[0], [0], [0], [0]], [[0.858833397337602], [0.41636330548581746], [0.5300743825505428], [0.8276552187917637]], [[0.2600916664371118], [0.018418561713245296], [0.05752058888163214], [0.644730530195006]], [[0.5935240114180499], [0.6793641132522851], [0.6749749468828203], [0.7319898978733635]], [[0.8616139451831133], [0.9054198874287034], [0.3831246526420313], [0.585402858018798]], [[0.3186553756987821], [0.8795006799362266], [0.9897677133172406], [0.07894330352985413]], [[0.7324817895315199], [0.4607288838752942], [0.585302379057838], [0.036017522570645055]]]]]\n"
     ]
    }
   ],
   "source": [
    "grad_S_A=[[[[[0 for k in range(C_in)]for m in range(W)]for l in range(H)]for j in range(Sw)]for i in range(Sh)]\n",
    "\n",
    "for k in range (C_in):\n",
    "    for m in range(W):\n",
    "        for l in range(H):\n",
    "            for j in range(Sw):\n",
    "                for i in range(Sh):\n",
    "                    if i<=l & l<i+fh:\n",
    "                        if j<=m & m<j+fw:\n",
    "                            ((((grad_S_A[i])[j])[l])[m])[k]=B[l-i, m-j, k]\n",
    "\n",
    "print('grad_S_A: ')\n",
    "print(grad_S_A)"
   ]
  },
  {
   "cell_type": "code",
   "execution_count": 48,
   "metadata": {},
   "outputs": [
    {
     "name": "stdout",
     "output_type": "stream",
     "text": [
      "grad_S_B: \n",
      "[[[[[0.519551889945918], [0.058306208818272975], [0.97336607963106], [0.5676884477803015]], [[0.25101712739532367], [0.2786731093487129], [0.8555005304815064], [0.8573912602056821]], [[0.7385681254465223], [0.5300761679024545], [0.3039000782032536], [0.7976830578032093]], [[0.07635436955989328], [0.785482353297321], [0.848217038307236], [0.9288982437533112]], [[0.5175712785612594], [0.9757025293610175], [0.10965681924102288], [0.09267391769779676]], [[0.38399071909240257], [0.9287746449514991], [0.6850739273801906], [0.32064972990103024]]]], [[[[0], [0], [0], [0]], [[0.7385681254465223], [0.5300761679024545], [0.3039000782032536], [0.7976830578032093]], [[0.07635436955989328], [0.785482353297321], [0.848217038307236], [0.9288982437533112]], [[0.5175712785612594], [0.9757025293610175], [0.10965681924102288], [0.09267391769779676]], [[0.38399071909240257], [0.9287746449514991], [0.6850739273801906], [0.32064972990103024]], [[0.49335301359842265], [0.21444436723180538], [0.8275268417443225], [0.6327300122002567]]]]]\n"
     ]
    }
   ],
   "source": [
    "grad_S_B=[[[[[0 for k in range(C_in)]for m in range(fw)]for l in range(fh)]for j in range(Sw)]for i in range(Sh)]\n",
    "\n",
    "for k in range (C_in):\n",
    "    for m in range(fw):\n",
    "        for l in range(fh):\n",
    "            for j in range(Sw):\n",
    "                for i in range(Sh):\n",
    "                    if i<=l & l<i+fh:\n",
    "                        if j<=m & m<j+fw:\n",
    "                            ((((grad_S_B[i])[j])[l])[m])[k]=A[l+i, m+j, k]\n",
    "\n",
    "print('grad_S_B: ')\n",
    "print(grad_S_B)"
   ]
  },
  {
   "cell_type": "code",
   "execution_count": 49,
   "metadata": {},
   "outputs": [
    {
     "name": "stdout",
     "output_type": "stream",
     "text": [
      "[[[0]], [[0]]]\n"
     ]
    }
   ],
   "source": [
    "i=1\n",
    "j=1\n",
    "k=1\n",
    "\n",
    "y=[[[0 for k in range(C_in)]for j in range(Sw)]for i in range(Sh)]\n",
    "print(y)\n"
   ]
  },
  {
   "cell_type": "code",
   "execution_count": 50,
   "metadata": {},
   "outputs": [
    {
     "name": "stdout",
     "output_type": "stream",
     "text": [
      "7.735526043166999210e-01 3.033002129954393000e-01 3.097498631227884047e-01 1.327151385565169539e-01 1.603878734619761381e-01 2.083222665402451046e-01 9.170463237744445051e-01 9.071490008102920388e-01 4.829492163417017370e-01 \n",
      "content\n",
      "['7.735526043166999210e-01', '3.033002129954393000e-01', '3.097498631227884047e-01\\n1.327151385565169539e-01', '1.603878734619761381e-01', '2.083222665402451046e-01\\n9.170463237744445051e-01', '9.071490008102920388e-01', '4.829492163417017370e-01\\n']\n"
     ]
    }
   ],
   "source": [
    "file = open('B.txt', 'r')\n",
    "content = file.read()\n",
    "\n",
    "print((content.replace('\\n', ' ')))\n",
    "\n",
    "print('content')\n",
    "print((content.split(' ')))\n"
   ]
  }
 ],
 "metadata": {
  "kernelspec": {
   "display_name": "base",
   "language": "python",
   "name": "python3"
  },
  "language_info": {
   "codemirror_mode": {
    "name": "ipython",
    "version": 3
   },
   "file_extension": ".py",
   "mimetype": "text/x-python",
   "name": "python",
   "nbconvert_exporter": "python",
   "pygments_lexer": "ipython3",
   "version": "3.9.13"
  }
 },
 "nbformat": 4,
 "nbformat_minor": 2
}
